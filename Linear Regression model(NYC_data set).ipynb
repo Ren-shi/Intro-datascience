{
 "cells": [
  {
   "cell_type": "markdown",
   "id": "535e9e67",
   "metadata": {},
   "source": [
    "# Linear regression model for NYC BnB 2019 data set"
   ]
  },
  {
   "cell_type": "markdown",
   "id": "175fe0c2",
   "metadata": {},
   "source": [
    "The first steps is to import the relevant fields in the notebook. In this case it is pandas, matplotlib and sklearn"
   ]
  },
  {
   "cell_type": "code",
   "execution_count": 1,
   "id": "5877ba31",
   "metadata": {},
   "outputs": [],
   "source": [
    "import pandas as pd\n",
    "import matplotlib.pyplot as plt\n",
    "from sklearn import linear_model"
   ]
  },
  {
   "cell_type": "markdown",
   "id": "6f218110",
   "metadata": {},
   "source": [
    "Next we import the data in a variable called data set using the pandas method of reading csv files"
   ]
  },
  {
   "cell_type": "code",
   "execution_count": 2,
   "id": "ae1fe4bc",
   "metadata": {},
   "outputs": [],
   "source": [
    "data_set = pd.read_csv('AB_NYC_2019.csv')"
   ]
  },
  {
   "cell_type": "markdown",
   "id": "8ff87264",
   "metadata": {},
   "source": [
    "Displaying the 5 rows of the data set to understand what it being looked at"
   ]
  },
  {
   "cell_type": "code",
   "execution_count": 4,
   "id": "858db369",
   "metadata": {},
   "outputs": [
    {
     "data": {
      "text/html": [
       "<div>\n",
       "<style scoped>\n",
       "    .dataframe tbody tr th:only-of-type {\n",
       "        vertical-align: middle;\n",
       "    }\n",
       "\n",
       "    .dataframe tbody tr th {\n",
       "        vertical-align: top;\n",
       "    }\n",
       "\n",
       "    .dataframe thead th {\n",
       "        text-align: right;\n",
       "    }\n",
       "</style>\n",
       "<table border=\"1\" class=\"dataframe\">\n",
       "  <thead>\n",
       "    <tr style=\"text-align: right;\">\n",
       "      <th></th>\n",
       "      <th>id</th>\n",
       "      <th>name</th>\n",
       "      <th>host_id</th>\n",
       "      <th>host_name</th>\n",
       "      <th>neighbourhood_group</th>\n",
       "      <th>neighbourhood</th>\n",
       "      <th>latitude</th>\n",
       "      <th>longitude</th>\n",
       "      <th>room_type</th>\n",
       "      <th>price</th>\n",
       "      <th>minimum_nights</th>\n",
       "      <th>number_of_reviews</th>\n",
       "      <th>last_review</th>\n",
       "      <th>reviews_per_month</th>\n",
       "      <th>calculated_host_listings_count</th>\n",
       "      <th>availability_365</th>\n",
       "    </tr>\n",
       "  </thead>\n",
       "  <tbody>\n",
       "    <tr>\n",
       "      <th>0</th>\n",
       "      <td>2539</td>\n",
       "      <td>Clean &amp; quiet apt home by the park</td>\n",
       "      <td>2787</td>\n",
       "      <td>John</td>\n",
       "      <td>Brooklyn</td>\n",
       "      <td>Kensington</td>\n",
       "      <td>40.64749</td>\n",
       "      <td>-73.97237</td>\n",
       "      <td>Private room</td>\n",
       "      <td>149</td>\n",
       "      <td>1</td>\n",
       "      <td>9</td>\n",
       "      <td>2018-10-19</td>\n",
       "      <td>0.21</td>\n",
       "      <td>6</td>\n",
       "      <td>365</td>\n",
       "    </tr>\n",
       "    <tr>\n",
       "      <th>1</th>\n",
       "      <td>2595</td>\n",
       "      <td>Skylit Midtown Castle</td>\n",
       "      <td>2845</td>\n",
       "      <td>Jennifer</td>\n",
       "      <td>Manhattan</td>\n",
       "      <td>Midtown</td>\n",
       "      <td>40.75362</td>\n",
       "      <td>-73.98377</td>\n",
       "      <td>Entire home/apt</td>\n",
       "      <td>225</td>\n",
       "      <td>1</td>\n",
       "      <td>45</td>\n",
       "      <td>2019-05-21</td>\n",
       "      <td>0.38</td>\n",
       "      <td>2</td>\n",
       "      <td>355</td>\n",
       "    </tr>\n",
       "    <tr>\n",
       "      <th>2</th>\n",
       "      <td>3647</td>\n",
       "      <td>THE VILLAGE OF HARLEM....NEW YORK !</td>\n",
       "      <td>4632</td>\n",
       "      <td>Elisabeth</td>\n",
       "      <td>Manhattan</td>\n",
       "      <td>Harlem</td>\n",
       "      <td>40.80902</td>\n",
       "      <td>-73.94190</td>\n",
       "      <td>Private room</td>\n",
       "      <td>150</td>\n",
       "      <td>3</td>\n",
       "      <td>0</td>\n",
       "      <td>NaN</td>\n",
       "      <td>NaN</td>\n",
       "      <td>1</td>\n",
       "      <td>365</td>\n",
       "    </tr>\n",
       "    <tr>\n",
       "      <th>3</th>\n",
       "      <td>3831</td>\n",
       "      <td>Cozy Entire Floor of Brownstone</td>\n",
       "      <td>4869</td>\n",
       "      <td>LisaRoxanne</td>\n",
       "      <td>Brooklyn</td>\n",
       "      <td>Clinton Hill</td>\n",
       "      <td>40.68514</td>\n",
       "      <td>-73.95976</td>\n",
       "      <td>Entire home/apt</td>\n",
       "      <td>89</td>\n",
       "      <td>1</td>\n",
       "      <td>270</td>\n",
       "      <td>2019-07-05</td>\n",
       "      <td>4.64</td>\n",
       "      <td>1</td>\n",
       "      <td>194</td>\n",
       "    </tr>\n",
       "    <tr>\n",
       "      <th>4</th>\n",
       "      <td>5022</td>\n",
       "      <td>Entire Apt: Spacious Studio/Loft by central park</td>\n",
       "      <td>7192</td>\n",
       "      <td>Laura</td>\n",
       "      <td>Manhattan</td>\n",
       "      <td>East Harlem</td>\n",
       "      <td>40.79851</td>\n",
       "      <td>-73.94399</td>\n",
       "      <td>Entire home/apt</td>\n",
       "      <td>80</td>\n",
       "      <td>10</td>\n",
       "      <td>9</td>\n",
       "      <td>2018-11-19</td>\n",
       "      <td>0.10</td>\n",
       "      <td>1</td>\n",
       "      <td>0</td>\n",
       "    </tr>\n",
       "  </tbody>\n",
       "</table>\n",
       "</div>"
      ],
      "text/plain": [
       "     id                                              name  host_id  \\\n",
       "0  2539                Clean & quiet apt home by the park     2787   \n",
       "1  2595                             Skylit Midtown Castle     2845   \n",
       "2  3647               THE VILLAGE OF HARLEM....NEW YORK !     4632   \n",
       "3  3831                   Cozy Entire Floor of Brownstone     4869   \n",
       "4  5022  Entire Apt: Spacious Studio/Loft by central park     7192   \n",
       "\n",
       "     host_name neighbourhood_group neighbourhood  latitude  longitude  \\\n",
       "0         John            Brooklyn    Kensington  40.64749  -73.97237   \n",
       "1     Jennifer           Manhattan       Midtown  40.75362  -73.98377   \n",
       "2    Elisabeth           Manhattan        Harlem  40.80902  -73.94190   \n",
       "3  LisaRoxanne            Brooklyn  Clinton Hill  40.68514  -73.95976   \n",
       "4        Laura           Manhattan   East Harlem  40.79851  -73.94399   \n",
       "\n",
       "         room_type  price  minimum_nights  number_of_reviews last_review  \\\n",
       "0     Private room    149               1                  9  2018-10-19   \n",
       "1  Entire home/apt    225               1                 45  2019-05-21   \n",
       "2     Private room    150               3                  0         NaN   \n",
       "3  Entire home/apt     89               1                270  2019-07-05   \n",
       "4  Entire home/apt     80              10                  9  2018-11-19   \n",
       "\n",
       "   reviews_per_month  calculated_host_listings_count  availability_365  \n",
       "0               0.21                               6               365  \n",
       "1               0.38                               2               355  \n",
       "2                NaN                               1               365  \n",
       "3               4.64                               1               194  \n",
       "4               0.10                               1                 0  "
      ]
     },
     "execution_count": 4,
     "metadata": {},
     "output_type": "execute_result"
    }
   ],
   "source": [
    "data_set.head()"
   ]
  },
  {
   "cell_type": "markdown",
   "id": "8c349ff8",
   "metadata": {},
   "source": [
    "The shows how many rows and colomns are in the table. "
   ]
  },
  {
   "cell_type": "code",
   "execution_count": 5,
   "id": "fcbd9b55",
   "metadata": {},
   "outputs": [
    {
     "data": {
      "text/plain": [
       "(48895, 16)"
      ]
     },
     "execution_count": 5,
     "metadata": {},
     "output_type": "execute_result"
    }
   ],
   "source": [
    "data_set.shape"
   ]
  },
  {
   "cell_type": "markdown",
   "id": "abf2dede",
   "metadata": {},
   "source": [
    "Now we can decide to plot the values that we are interested in and display them."
   ]
  },
  {
   "cell_type": "code",
   "execution_count": 44,
   "id": "1edd79fd",
   "metadata": {},
   "outputs": [
    {
     "data": {
      "image/png": "[encoded data removed]",
      "text/plain": [
       "<Figure size 432x288 with 1 Axes>"
      ]
     },
     "metadata": {
      "needs_background": "light"
     },
     "output_type": "display_data"
    }
   ],
   "source": [
    "data_set.plot(kind = 'scatter',x = 'minimum_nights',y = 'price')\n",
    "plt.show()"
   ]
  },
  {
   "cell_type": "markdown",
   "id": "d5984c71",
   "metadata": {},
   "source": [
    "For this data set, we have chosen the mininum nights and number of reviews. Now we can make data framse with only those values and use them in the linear regression model we will set up."
   ]
  },
  {
   "cell_type": "code",
   "execution_count": 31,
   "id": "348d567d",
   "metadata": {},
   "outputs": [],
   "source": [
    "min_nights = pd.DataFrame(data_set['minimum_nights'])\n",
    "num_of_reviews = pd.DataFrame(data_set['number_of_reviews'])"
   ]
  },
  {
   "cell_type": "markdown",
   "id": "f3203f46",
   "metadata": {},
   "source": [
    "The model will be a linear regression model but it can also be which ever model you decided to put it too. For now we will use linear regression."
   ]
  },
  {
   "cell_type": "code",
   "execution_count": 32,
   "id": "a2c348a5",
   "metadata": {},
   "outputs": [],
   "source": [
    "l_model = linear_model.LinearRegression()\n",
    "model = l_model.fit(min_nights,num_of_reviews)"
   ]
  },
  {
   "cell_type": "markdown",
   "id": "117cea5a",
   "metadata": {},
   "source": [
    "Now that we have established the model we can extract the coefficients from the model, in this case these are the intercept and the gradient."
   ]
  },
  {
   "cell_type": "code",
   "execution_count": 56,
   "id": "6305b279",
   "metadata": {},
   "outputs": [
    {
     "data": {
      "text/html": [
       "<div>\n",
       "<style scoped>\n",
       "    .dataframe tbody tr th:only-of-type {\n",
       "        vertical-align: middle;\n",
       "    }\n",
       "\n",
       "    .dataframe tbody tr th {\n",
       "        vertical-align: top;\n",
       "    }\n",
       "\n",
       "    .dataframe thead th {\n",
       "        text-align: right;\n",
       "    }\n",
       "</style>\n",
       "<table border=\"1\" class=\"dataframe\">\n",
       "  <thead>\n",
       "    <tr style=\"text-align: right;\">\n",
       "      <th></th>\n",
       "      <th>coefficient</th>\n",
       "      <th>intercept</th>\n",
       "    </tr>\n",
       "  </thead>\n",
       "  <tbody>\n",
       "    <tr>\n",
       "      <th>0</th>\n",
       "      <td>-0.174019</td>\n",
       "      <td>24.49781</td>\n",
       "    </tr>\n",
       "  </tbody>\n",
       "</table>\n",
       "</div>"
      ],
      "text/plain": [
       "   coefficient  intercept\n",
       "0    -0.174019   24.49781"
      ]
     },
     "execution_count": 56,
     "metadata": {},
     "output_type": "execute_result"
    }
   ],
   "source": [
    "coeff_intercept_= pd.DataFrame(zip(model.coef_[0],model.intercept_))\n",
    "coeff_intercept_.columns =['coefficient','intercept']\n",
    "coeff_intercept_.head()"
   ]
  },
  {
   "cell_type": "markdown",
   "id": "cc302531",
   "metadata": {},
   "source": [
    "We can evaluate how good the model is using the model score method. "
   ]
  },
  {
   "cell_type": "code",
   "execution_count": 35,
   "id": "b1da87df",
   "metadata": {},
   "outputs": [
    {
     "data": {
      "text/plain": [
       "0.006418584390500026"
      ]
     },
     "execution_count": 35,
     "metadata": {},
     "output_type": "execute_result"
    }
   ],
   "source": [
    "model.score(min_nights,num_of_reviews) # evaluates how good the model is"
   ]
  },
  {
   "cell_type": "code",
   "execution_count": 40,
   "id": "fc6ad0a7",
   "metadata": {},
   "outputs": [
    {
     "data": {
      "text/plain": [
       "array([[-10.30591365]])"
      ]
     },
     "execution_count": 40,
     "metadata": {},
     "output_type": "execute_result"
    }
   ],
   "source": [
    "min_nights_new = [[200]]\n",
    "num_of_reviews_predict = model.predict(min_nights_new)\n",
    "num_of_reviews_predict"
   ]
  },
  {
   "cell_type": "code",
   "execution_count": 49,
   "id": "1cc59df6",
   "metadata": {},
   "outputs": [
    {
     "data": {
      "text/html": [
       "<div>\n",
       "<style scoped>\n",
       "    .dataframe tbody tr th:only-of-type {\n",
       "        vertical-align: middle;\n",
       "    }\n",
       "\n",
       "    .dataframe tbody tr th {\n",
       "        vertical-align: top;\n",
       "    }\n",
       "\n",
       "    .dataframe thead th {\n",
       "        text-align: right;\n",
       "    }\n",
       "</style>\n",
       "<table border=\"1\" class=\"dataframe\">\n",
       "  <thead>\n",
       "    <tr style=\"text-align: right;\">\n",
       "      <th></th>\n",
       "      <th>id</th>\n",
       "      <th>host_id</th>\n",
       "      <th>latitude</th>\n",
       "      <th>longitude</th>\n",
       "      <th>price</th>\n",
       "      <th>minimum_nights</th>\n",
       "      <th>number_of_reviews</th>\n",
       "      <th>reviews_per_month</th>\n",
       "      <th>calculated_host_listings_count</th>\n",
       "      <th>availability_365</th>\n",
       "    </tr>\n",
       "  </thead>\n",
       "  <tbody>\n",
       "    <tr>\n",
       "      <th>id</th>\n",
       "      <td>1.000000</td>\n",
       "      <td>0.588290</td>\n",
       "      <td>-0.003125</td>\n",
       "      <td>0.090908</td>\n",
       "      <td>0.010619</td>\n",
       "      <td>-0.013224</td>\n",
       "      <td>-0.319760</td>\n",
       "      <td>0.291828</td>\n",
       "      <td>0.133272</td>\n",
       "      <td>0.085468</td>\n",
       "    </tr>\n",
       "    <tr>\n",
       "      <th>host_id</th>\n",
       "      <td>0.588290</td>\n",
       "      <td>1.000000</td>\n",
       "      <td>0.020224</td>\n",
       "      <td>0.127055</td>\n",
       "      <td>0.015309</td>\n",
       "      <td>-0.017364</td>\n",
       "      <td>-0.140106</td>\n",
       "      <td>0.296417</td>\n",
       "      <td>0.154950</td>\n",
       "      <td>0.203492</td>\n",
       "    </tr>\n",
       "    <tr>\n",
       "      <th>latitude</th>\n",
       "      <td>-0.003125</td>\n",
       "      <td>0.020224</td>\n",
       "      <td>1.000000</td>\n",
       "      <td>0.084788</td>\n",
       "      <td>0.033939</td>\n",
       "      <td>0.024869</td>\n",
       "      <td>-0.015389</td>\n",
       "      <td>-0.010142</td>\n",
       "      <td>0.019517</td>\n",
       "      <td>-0.010983</td>\n",
       "    </tr>\n",
       "    <tr>\n",
       "      <th>longitude</th>\n",
       "      <td>0.090908</td>\n",
       "      <td>0.127055</td>\n",
       "      <td>0.084788</td>\n",
       "      <td>1.000000</td>\n",
       "      <td>-0.150019</td>\n",
       "      <td>-0.062747</td>\n",
       "      <td>0.059094</td>\n",
       "      <td>0.145948</td>\n",
       "      <td>-0.114713</td>\n",
       "      <td>0.082731</td>\n",
       "    </tr>\n",
       "    <tr>\n",
       "      <th>price</th>\n",
       "      <td>0.010619</td>\n",
       "      <td>0.015309</td>\n",
       "      <td>0.033939</td>\n",
       "      <td>-0.150019</td>\n",
       "      <td>1.000000</td>\n",
       "      <td>0.042799</td>\n",
       "      <td>-0.047954</td>\n",
       "      <td>-0.030608</td>\n",
       "      <td>0.057472</td>\n",
       "      <td>0.081829</td>\n",
       "    </tr>\n",
       "    <tr>\n",
       "      <th>minimum_nights</th>\n",
       "      <td>-0.013224</td>\n",
       "      <td>-0.017364</td>\n",
       "      <td>0.024869</td>\n",
       "      <td>-0.062747</td>\n",
       "      <td>0.042799</td>\n",
       "      <td>1.000000</td>\n",
       "      <td>-0.080116</td>\n",
       "      <td>-0.121702</td>\n",
       "      <td>0.127960</td>\n",
       "      <td>0.144303</td>\n",
       "    </tr>\n",
       "    <tr>\n",
       "      <th>number_of_reviews</th>\n",
       "      <td>-0.319760</td>\n",
       "      <td>-0.140106</td>\n",
       "      <td>-0.015389</td>\n",
       "      <td>0.059094</td>\n",
       "      <td>-0.047954</td>\n",
       "      <td>-0.080116</td>\n",
       "      <td>1.000000</td>\n",
       "      <td>0.549868</td>\n",
       "      <td>-0.072376</td>\n",
       "      <td>0.172028</td>\n",
       "    </tr>\n",
       "    <tr>\n",
       "      <th>reviews_per_month</th>\n",
       "      <td>0.291828</td>\n",
       "      <td>0.296417</td>\n",
       "      <td>-0.010142</td>\n",
       "      <td>0.145948</td>\n",
       "      <td>-0.030608</td>\n",
       "      <td>-0.121702</td>\n",
       "      <td>0.549868</td>\n",
       "      <td>1.000000</td>\n",
       "      <td>-0.009421</td>\n",
       "      <td>0.185791</td>\n",
       "    </tr>\n",
       "    <tr>\n",
       "      <th>calculated_host_listings_count</th>\n",
       "      <td>0.133272</td>\n",
       "      <td>0.154950</td>\n",
       "      <td>0.019517</td>\n",
       "      <td>-0.114713</td>\n",
       "      <td>0.057472</td>\n",
       "      <td>0.127960</td>\n",
       "      <td>-0.072376</td>\n",
       "      <td>-0.009421</td>\n",
       "      <td>1.000000</td>\n",
       "      <td>0.225701</td>\n",
       "    </tr>\n",
       "    <tr>\n",
       "      <th>availability_365</th>\n",
       "      <td>0.085468</td>\n",
       "      <td>0.203492</td>\n",
       "      <td>-0.010983</td>\n",
       "      <td>0.082731</td>\n",
       "      <td>0.081829</td>\n",
       "      <td>0.144303</td>\n",
       "      <td>0.172028</td>\n",
       "      <td>0.185791</td>\n",
       "      <td>0.225701</td>\n",
       "      <td>1.000000</td>\n",
       "    </tr>\n",
       "  </tbody>\n",
       "</table>\n",
       "</div>"
      ],
      "text/plain": [
       "                                      id   host_id  latitude  longitude  \\\n",
       "id                              1.000000  0.588290 -0.003125   0.090908   \n",
       "host_id                         0.588290  1.000000  0.020224   0.127055   \n",
       "latitude                       -0.003125  0.020224  1.000000   0.084788   \n",
       "longitude                       0.090908  0.127055  0.084788   1.000000   \n",
       "price                           0.010619  0.015309  0.033939  -0.150019   \n",
       "minimum_nights                 -0.013224 -0.017364  0.024869  -0.062747   \n",
       "number_of_reviews              -0.319760 -0.140106 -0.015389   0.059094   \n",
       "reviews_per_month               0.291828  0.296417 -0.010142   0.145948   \n",
       "calculated_host_listings_count  0.133272  0.154950  0.019517  -0.114713   \n",
       "availability_365                0.085468  0.203492 -0.010983   0.082731   \n",
       "\n",
       "                                   price  minimum_nights  number_of_reviews  \\\n",
       "id                              0.010619       -0.013224          -0.319760   \n",
       "host_id                         0.015309       -0.017364          -0.140106   \n",
       "latitude                        0.033939        0.024869          -0.015389   \n",
       "longitude                      -0.150019       -0.062747           0.059094   \n",
       "price                           1.000000        0.042799          -0.047954   \n",
       "minimum_nights                  0.042799        1.000000          -0.080116   \n",
       "number_of_reviews              -0.047954       -0.080116           1.000000   \n",
       "reviews_per_month              -0.030608       -0.121702           0.549868   \n",
       "calculated_host_listings_count  0.057472        0.127960          -0.072376   \n",
       "availability_365                0.081829        0.144303           0.172028   \n",
       "\n",
       "                                reviews_per_month  \\\n",
       "id                                       0.291828   \n",
       "host_id                                  0.296417   \n",
       "latitude                                -0.010142   \n",
       "longitude                                0.145948   \n",
       "price                                   -0.030608   \n",
       "minimum_nights                          -0.121702   \n",
       "number_of_reviews                        0.549868   \n",
       "reviews_per_month                        1.000000   \n",
       "calculated_host_listings_count          -0.009421   \n",
       "availability_365                         0.185791   \n",
       "\n",
       "                                calculated_host_listings_count  \\\n",
       "id                                                    0.133272   \n",
       "host_id                                               0.154950   \n",
       "latitude                                              0.019517   \n",
       "longitude                                            -0.114713   \n",
       "price                                                 0.057472   \n",
       "minimum_nights                                        0.127960   \n",
       "number_of_reviews                                    -0.072376   \n",
       "reviews_per_month                                    -0.009421   \n",
       "calculated_host_listings_count                        1.000000   \n",
       "availability_365                                      0.225701   \n",
       "\n",
       "                                availability_365  \n",
       "id                                      0.085468  \n",
       "host_id                                 0.203492  \n",
       "latitude                               -0.010983  \n",
       "longitude                               0.082731  \n",
       "price                                   0.081829  \n",
       "minimum_nights                          0.144303  \n",
       "number_of_reviews                       0.172028  \n",
       "reviews_per_month                       0.185791  \n",
       "calculated_host_listings_count          0.225701  \n",
       "availability_365                        1.000000  "
      ]
     },
     "execution_count": 49,
     "metadata": {},
     "output_type": "execute_result"
    }
   ],
   "source": [
    "correlation_frame=pd.DataFrame(data_set.corr())\n",
    "correlation_frame.head(10)"
   ]
  },
  {
   "cell_type": "code",
   "execution_count": null,
   "id": "b1ebbb86",
   "metadata": {},
   "outputs": [],
   "source": []
  }
 ],
 "metadata": {
  "kernelspec": {
   "display_name": "Python 3",
   "language": "python",
   "name": "python3"
  },
  "language_info": {
   "codemirror_mode": {
    "name": "ipython",
    "version": 3
   },
   "file_extension": ".py",
   "mimetype": "text/x-python",
   "name": "python",
   "nbconvert_exporter": "python",
   "pygments_lexer": "ipython3",
   "version": "3.8.8"
  }
 },
 "nbformat": 4,
 "nbformat_minor": 5
}
